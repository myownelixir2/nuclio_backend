{
 "cells": [
  {
   "attachments": {},
   "cell_type": "markdown",
   "metadata": {},
   "source": [
    "### LAUNCH APP"
   ]
  },
  {
   "attachments": {},
   "cell_type": "markdown",
   "metadata": {},
   "source": [
    "```uvicorn run:app --reload --workers 4```"
   ]
  },
  {
   "attachments": {},
   "cell_type": "markdown",
   "metadata": {},
   "source": [
    "### Autheticate with Firebase SDK"
   ]
  },
  {
   "cell_type": "code",
   "execution_count": 1,
   "metadata": {},
   "outputs": [],
   "source": [
    "from example_utils import *\n",
    "from concurrent.futures import ThreadPoolExecutor"
   ]
  },
  {
   "cell_type": "code",
   "execution_count": 14,
   "metadata": {},
   "outputs": [],
   "source": [
    "access_token = get_access_token()"
   ]
  },
  {
   "attachments": {},
   "cell_type": "markdown",
   "metadata": {},
   "source": [
    "### CREATE JOB ID"
   ]
  },
  {
   "attachments": {},
   "cell_type": "markdown",
   "metadata": {},
   "source": [
    "### Select your samples, bpm, euclidean rhytms etc..."
   ]
  },
  {
   "cell_type": "code",
   "execution_count": 3,
   "metadata": {},
   "outputs": [],
   "source": [
    "data = {\n",
    "  \"local_paths\": [\"assets/sounds/MRQSHWKS_drum_loop_swingin_full_120.mp3\", \n",
    "                  \"assets/sounds/ru_ecm_120_kit05_drum_loop_2_F#min.mp3\", \n",
    "                  \"assets/sounds/PM_HOUSE_Kick_Loop_120_Saturna.mp3\", \n",
    "                  \"assets/sounds/SS_AH_120_top_loop_jungle_tacko.mp3\", \n",
    "                  \"assets/sounds/MBO_120_violin_loop_start_melody_02_Emin.mp3\", \n",
    "                  \"assets/sounds/OS_DS_120_Cm_Warm_Vocals_Electric_Keys.mp3\"],\n",
    "  \"cloud_paths\": [\"sp_loop__drums_full/MRQSHWKS_drum_loop_swingin_full_120.mp3\", \n",
    "                  \"sp_loop__drums_grooves/ru_ecm_120_kit05_drum_loop_2_F#min.mp3\", \n",
    "                  \"sp_loop__perc_kicks/PM_HOUSE_Kick_Loop_120_Saturna.mp3\", \n",
    "                  \"sp_loop__perc_tops/SS_AH_120_top_loop_jungle_tacko.mp3\", \n",
    "                  \"sp_loop__tone_melodies/MBO_120_violin_loop_start_melody_02_Emin.mp3\", \n",
    "                  \"sp_loop__tone_voice_acapella/OS_DS_120_Cm_Warm_Vocals_Electric_Keys.mp3\"],\n",
    "  \"bpm\": [120],\n",
    "  \"scale_value\": [\"hungarian\"],\n",
    "  \"key_value\": [\"C# / Db\"],\n",
    "  \"rythm_config_list\": [\n",
    "    [3, 4],\n",
    "    [4, 4],\n",
    "    [3, 4],\n",
    "    [3, 4],\n",
    "    [3, 16],\n",
    "    [6, 8]\n",
    "  ],\n",
    "  \"pitch_temperature_knob_list\": [\n",
    "    [0],\n",
    "    [0],\n",
    "    [0],\n",
    "    [0],\n",
    "    [0],\n",
    "    [0]\n",
    "  ]\n",
    "} "
   ]
  },
  {
   "cell_type": "code",
   "execution_count": 4,
   "metadata": {},
   "outputs": [
    {
     "data": {
      "text/plain": [
       "{'local_paths': ['assets/sounds/MRQSHWKS_drum_loop_swingin_full_120.mp3',\n",
       "  'assets/sounds/ru_ecm_120_kit05_drum_loop_2_F#min.mp3',\n",
       "  'assets/sounds/PM_HOUSE_Kick_Loop_120_Saturna.mp3',\n",
       "  'assets/sounds/SS_AH_120_top_loop_jungle_tacko.mp3',\n",
       "  'assets/sounds/MBO_120_violin_loop_start_melody_02_Emin.mp3',\n",
       "  'assets/sounds/OS_DS_120_Cm_Warm_Vocals_Electric_Keys.mp3'],\n",
       " 'cloud_paths': ['sp_loop__drums_full/MRQSHWKS_drum_loop_swingin_full_120.mp3',\n",
       "  'sp_loop__drums_grooves/ru_ecm_120_kit05_drum_loop_2_F#min.mp3',\n",
       "  'sp_loop__perc_kicks/PM_HOUSE_Kick_Loop_120_Saturna.mp3',\n",
       "  'sp_loop__perc_tops/SS_AH_120_top_loop_jungle_tacko.mp3',\n",
       "  'sp_loop__tone_melodies/MBO_120_violin_loop_start_melody_02_Emin.mp3',\n",
       "  'sp_loop__tone_voice_acapella/OS_DS_120_Cm_Warm_Vocals_Electric_Keys.mp3'],\n",
       " 'bpm': [120],\n",
       " 'scale_value': ['hungarian'],\n",
       " 'key_value': ['C# / Db'],\n",
       " 'rythm_config_list': [[3, 4], [4, 4], [3, 4], [3, 4], [3, 16], [6, 8]],\n",
       " 'pitch_temperature_knob_list': [[0], [0], [0], [0], [0], [0]]}"
      ]
     },
     "execution_count": 4,
     "metadata": {},
     "output_type": "execute_result"
    }
   ],
   "source": [
    "job_config = JobConfig(**data)\n",
    "dict(job_config)"
   ]
  },
  {
   "cell_type": "code",
   "execution_count": 5,
   "metadata": {},
   "outputs": [],
   "source": [
    "new_sesh = SessionIdGenerator()\n",
    "cloud_job_id = new_sesh.generate_cloud_job_id()\n"
   ]
  },
  {
   "cell_type": "code",
   "execution_count": 6,
   "metadata": {},
   "outputs": [
    {
     "name": "stdout",
     "output_type": "stream",
     "text": [
      "job_ids/2023_06_02_fat_explanation__1685727851-gckshove6374GJWW.json\n"
     ]
    }
   ],
   "source": [
    "print(cloud_job_id)"
   ]
  },
  {
   "cell_type": "code",
   "execution_count": 7,
   "metadata": {},
   "outputs": [
    {
     "name": "stdout",
     "output_type": "stream",
     "text": [
      "owcvbi\n"
     ]
    }
   ],
   "source": [
    "\n",
    "fx_mix_job_id = new_sesh.generate_random_id()\n",
    "print(fx_mix_job_id)"
   ]
  },
  {
   "cell_type": "code",
   "execution_count": 15,
   "metadata": {},
   "outputs": [],
   "source": [
    "sequence_generator = SequenceGenerator(access_token, cloud_job_id, fx_mix_job_id)\n",
    "file_utils = FileUtils(sequence_generator)"
   ]
  },
  {
   "attachments": {},
   "cell_type": "markdown",
   "metadata": {},
   "source": [
    "## CREATE SEQUENCE"
   ]
  },
  {
   "cell_type": "code",
   "execution_count": 16,
   "metadata": {},
   "outputs": [
    {
     "name": "stdout",
     "output_type": "stream",
     "text": [
      "job_ids/2023_06_02_fat_explanation__1685727851-gckshove6374GJWW.json\n"
     ]
    }
   ],
   "source": [
    "job_id = sequence_generator.create_job(job_config)\n",
    "print(job_id)"
   ]
  },
  {
   "cell_type": "code",
   "execution_count": 17,
   "metadata": {},
   "outputs": [],
   "source": [
    "max_workers = 6\n",
    "executor = ThreadPoolExecutor(max_workers=max_workers)\n",
    "file_utils.purge_temp()\n",
    "# Create a list to store the futures\n",
    "futures = []\n",
    "for i in range(max_workers):\n",
    "    future = executor.submit(sequence_generator.create_sequence, channel_index=i)\n",
    "    futures.append(future)\n"
   ]
  },
  {
   "cell_type": "code",
   "execution_count": 18,
   "metadata": {},
   "outputs": [],
   "source": [
    "futures = []\n",
    "for i in range(max_workers):\n",
    "    future = executor.submit(sequence_generator.apply_fx, \n",
    "                             channel_index=i,\n",
    "                             fx_params='F_F_F_F_F_F',\n",
    "                             fx_params_preset='None',\n",
    "                             selective_mutism_switch='F',\n",
    "                             selective_mutism_value='0',\n",
    "                             vol_params='100_100_100_100_100_100',\n",
    "                             mute_params='T_T_T_T_T_T'\n",
    "                             )\n",
    "    futures.append(future)\n",
    "\n",
    "file_utils.cleanup_temp('mixdown')"
   ]
  },
  {
   "cell_type": "code",
   "execution_count": 12,
   "metadata": {},
   "outputs": [
    {
     "name": "stdout",
     "output_type": "stream",
     "text": [
      "True\n"
     ]
    }
   ],
   "source": [
    "mix_url = sequence_generator.mix_sequences()\n",
    "print(mix_url)"
   ]
  },
  {
   "cell_type": "code",
   "execution_count": null,
   "metadata": {},
   "outputs": [],
   "source": [
    "my_mix = file_utils.presigned_url('sample-dump')\n",
    "print(my_mix)"
   ]
  }
 ],
 "metadata": {
  "kernelspec": {
   "display_name": "Python 3",
   "language": "python",
   "name": "python3"
  },
  "language_info": {
   "codemirror_mode": {
    "name": "ipython",
    "version": 3
   },
   "file_extension": ".py",
   "mimetype": "text/x-python",
   "name": "python",
   "nbconvert_exporter": "python",
   "pygments_lexer": "ipython3",
   "version": "3.9.6"
  },
  "orig_nbformat": 4
 },
 "nbformat": 4,
 "nbformat_minor": 2
}
