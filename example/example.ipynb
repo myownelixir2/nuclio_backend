{
 "cells": [
  {
   "attachments": {},
   "cell_type": "markdown",
   "metadata": {},
   "source": [
    "### LAUNCH APP"
   ]
  },
  {
   "attachments": {},
   "cell_type": "markdown",
   "metadata": {},
   "source": [
    "```uvicorn run:app --reload --workers 4```"
   ]
  },
  {
   "attachments": {},
   "cell_type": "markdown",
   "metadata": {},
   "source": [
    "### Autheticate with Firebase SDK"
   ]
  },
  {
   "cell_type": "code",
   "execution_count": 1,
   "metadata": {},
   "outputs": [],
   "source": [
    "from example_utils import *\n",
    "from concurrent.futures import ThreadPoolExecutor"
   ]
  },
  {
   "cell_type": "code",
   "execution_count": 14,
   "metadata": {},
   "outputs": [],
   "source": [
    "access_token = get_access_token()"
   ]
  },
  {
   "attachments": {},
   "cell_type": "markdown",
   "metadata": {},
   "source": [
    "### CREATE JOB ID"
   ]
  },
  {
   "attachments": {},
   "cell_type": "markdown",
   "metadata": {},
   "source": [
    "### Select your samples, bpm, euclidean rhytms etc..."
   ]
  },
  {
   "cell_type": "code",
   "execution_count": 3,
   "metadata": {},
   "outputs": [],
   "source": [
    "data = {\n",
    "  \"local_paths\": [\"assets/sounds/MRQSHWKS_drum_loop_swingin_full_120.mp3\", \n",
    "                  \"assets/sounds/ru_ecm_120_kit05_drum_loop_2_F#min.mp3\", \n",
    "                  \"assets/sounds/PM_HOUSE_Kick_Loop_120_Saturna.mp3\", \n",
    "                  \"assets/sounds/SS_AH_120_top_loop_jungle_tacko.mp3\", \n",
    "                  \"assets/sounds/MBO_120_violin_loop_start_melody_02_Emin.mp3\", \n",
    "                  \"assets/sounds/OS_DS_120_Cm_Warm_Vocals_Electric_Keys.mp3\"],\n",
    "  \"cloud_paths\": [\"sp_loop__drums_full/MRQSHWKS_drum_loop_swingin_full_120.mp3\", \n",
    "                  \"sp_loop__drums_grooves/ru_ecm_120_kit05_drum_loop_2_F#min.mp3\", \n",
    "                  \"sp_loop__perc_kicks/PM_HOUSE_Kick_Loop_120_Saturna.mp3\", \n",
    "                  \"sp_loop__perc_tops/SS_AH_120_top_loop_jungle_tacko.mp3\", \n",
    "                  \"sp_loop__tone_melodies/MBO_120_violin_loop_start_melody_02_Emin.mp3\", \n",
    "                  \"sp_loop__tone_voice_acapella/OS_DS_120_Cm_Warm_Vocals_Electric_Keys.mp3\"],\n",
    "  \"bpm\": [120],\n",
    "  \"scale_value\": [\"hungarian\"],\n",
    "  \"key_value\": [\"C# / Db\"],\n",
    "  \"rythm_config_list\": [\n",
    "    [3, 4],\n",
    "    [4, 4],\n",
    "    [3, 4],\n",
    "    [3, 4],\n",
    "    [3, 16],\n",
    "    [6, 8]\n",
    "  ],\n",
    "  \"pitch_temperature_knob_list\": [\n",
    "    [0],\n",
    "    [0],\n",
    "    [0],\n",
    "    [0],\n",
    "    [0],\n",
    "    [0]\n",
    "  ]\n",
    "} "
   ]
  },
  {
   "cell_type": "code",
   "execution_count": 4,
   "metadata": {},
   "outputs": [
    {
     "data": {
      "text/plain": [
       "{'local_paths': ['assets/sounds/MRQSHWKS_drum_loop_swingin_full_120.mp3',\n",
       "  'assets/sounds/ru_ecm_120_kit05_drum_loop_2_F#min.mp3',\n",
       "  'assets/sounds/PM_HOUSE_Kick_Loop_120_Saturna.mp3',\n",
       "  'assets/sounds/SS_AH_120_top_loop_jungle_tacko.mp3',\n",
       "  'assets/sounds/MBO_120_violin_loop_start_melody_02_Emin.mp3',\n",
       "  'assets/sounds/OS_DS_120_Cm_Warm_Vocals_Electric_Keys.mp3'],\n",
       " 'cloud_paths': ['sp_loop__drums_full/MRQSHWKS_drum_loop_swingin_full_120.mp3',\n",
       "  'sp_loop__drums_grooves/ru_ecm_120_kit05_drum_loop_2_F#min.mp3',\n",
       "  'sp_loop__perc_kicks/PM_HOUSE_Kick_Loop_120_Saturna.mp3',\n",
       "  'sp_loop__perc_tops/SS_AH_120_top_loop_jungle_tacko.mp3',\n",
       "  'sp_loop__tone_melodies/MBO_120_violin_loop_start_melody_02_Emin.mp3',\n",
       "  'sp_loop__tone_voice_acapella/OS_DS_120_Cm_Warm_Vocals_Electric_Keys.mp3'],\n",
       " 'bpm': [120],\n",
       " 'scale_value': ['hungarian'],\n",
       " 'key_value': ['C# / Db'],\n",
       " 'rythm_config_list': [[3, 4], [4, 4], [3, 4], [3, 4], [3, 16], [6, 8]],\n",
       " 'pitch_temperature_knob_list': [[0], [0], [0], [0], [0], [0]]}"
      ]
     },
     "execution_count": 4,
     "metadata": {},
     "output_type": "execute_result"
    }
   ],
   "source": [
    "job_config = JobConfig(**data)\n",
    "dict(job_config)"
   ]
  },
  {
   "cell_type": "code",
   "execution_count": 5,
   "metadata": {},
   "outputs": [],
   "source": [
    "new_sesh = SessionIdGenerator()\n",
    "cloud_job_id = new_sesh.generate_cloud_job_id()\n"
   ]
  },
  {
   "cell_type": "code",
   "execution_count": 6,
   "metadata": {},
   "outputs": [
    {
     "name": "stdout",
     "output_type": "stream",
     "text": [
      "job_ids/2023_06_02_fat_explanation__1685727851-gckshove6374GJWW.json\n"
     ]
    }
   ],
   "source": [
    "print(cloud_job_id)"
   ]
  },
  {
   "cell_type": "code",
   "execution_count": 7,
   "metadata": {},
   "outputs": [
    {
     "name": "stdout",
     "output_type": "stream",
     "text": [
      "owcvbi\n"
     ]
    }
   ],
   "source": [
    "\n",
    "fx_mix_job_id = new_sesh.generate_random_id()\n",
    "print(fx_mix_job_id)"
   ]
  },
  {
   "cell_type": "code",
   "execution_count": 15,
   "metadata": {},
   "outputs": [],
   "source": [
    "sequence_generator = SequenceGenerator(access_token, cloud_job_id, fx_mix_job_id)\n",
    "file_utils = FileUtils(sequence_generator)"
   ]
  },
  {
   "attachments": {},
   "cell_type": "markdown",
   "metadata": {},
   "source": [
    "## CREATE SEQUENCE"
   ]
  },
  {
   "cell_type": "code",
   "execution_count": 16,
   "metadata": {},
   "outputs": [
    {
     "name": "stdout",
     "output_type": "stream",
     "text": [
      "job_ids/2023_06_02_fat_explanation__1685727851-gckshove6374GJWW.json\n"
     ]
    }
   ],
   "source": [
    "job_id = sequence_generator.create_job(job_config)\n",
    "print(job_id)"
   ]
  },
  {
   "cell_type": "code",
   "execution_count": 17,
   "metadata": {},
   "outputs": [],
   "source": [
    "max_workers = 6\n",
    "executor = ThreadPoolExecutor(max_workers=max_workers)\n",
    "file_utils.purge_temp()\n",
    "# Create a list to store the futures\n",
    "futures = []\n",
    "for i in range(max_workers):\n",
    "    future = executor.submit(sequence_generator.create_sequence, channel_index=i)\n",
    "    futures.append(future)\n"
   ]
  },
  {
   "cell_type": "code",
   "execution_count": 18,
   "metadata": {},
   "outputs": [],
   "source": [
    "futures = []\n",
    "for i in range(max_workers):\n",
    "    future = executor.submit(sequence_generator.apply_fx, \n",
    "                             channel_index=i,\n",
    "                             fx_params='F_F_F_F_F_F',\n",
    "                             fx_params_preset='None',\n",
    "                             selective_mutism_switch='F',\n",
    "                             selective_mutism_value='0',\n",
    "                             vol_params='100_100_100_100_100_100',\n",
    "                             mute_params='T_T_T_T_T_T'\n",
    "                             )\n",
    "    futures.append(future)\n",
    "\n",
    "file_utils.cleanup_temp('mixdown')"
   ]
  },
  {
   "cell_type": "code",
   "execution_count": 12,
   "metadata": {},
   "outputs": [
    {
     "name": "stdout",
     "output_type": "stream",
     "text": [
      "True\n"
     ]
    }
   ],
   "source": [
    "mix_url = sequence_generator.mix_sequences()\n",
    "print(mix_url)"
   ]
  },
  {
   "cell_type": "code",
   "execution_count": 24,
   "metadata": {},
   "outputs": [
    {
     "name": "stdout",
     "output_type": "stream",
     "text": [
      "Downloading mixdown to temp/mixdown/mixdown_owcvbi_2023_06_02_fat_explanation__1685727851-gckshove6374GJWW_master.wav\n",
      "Downloading mixdown from \"https://s3.eu-central-1.wasabisys.com/sample-dump/mixdown/mixdown_owcvbi_2023_06_02_fat_explanation__1685727851-gckshove6374GJWW_master.wav?AWSAccessKeyId=MTB498L2B4RIC27GLUV3&Signature=5Cu71eIs6YMnTYDKtCOPiNiSKBU%3D&Expires=1685737961\"\n"
     ]
    },
    {
     "ename": "URLError",
     "evalue": "<urlopen error unknown url type: \"https>",
     "output_type": "error",
     "traceback": [
      "\u001b[0;31m---------------------------------------------------------------------------\u001b[0m",
      "\u001b[0;31mURLError\u001b[0m                                  Traceback (most recent call last)",
      "Cell \u001b[0;32mIn[24], line 1\u001b[0m\n\u001b[0;32m----> 1\u001b[0m my_mix \u001b[39m=\u001b[39m file_utils\u001b[39m.\u001b[39;49mpresigned_url(\u001b[39m'\u001b[39;49m\u001b[39msample-dump\u001b[39;49m\u001b[39m'\u001b[39;49m)\n\u001b[1;32m      2\u001b[0m \u001b[39mprint\u001b[39m(my_mix)\n",
      "File \u001b[0;32m~/Documents/soft_dev/python_projects/neuclio_fastapi/euclidean_rhythm_generator_mobile_python_fastapi/example/example_utils.py:222\u001b[0m, in \u001b[0;36mFileUtils.presigned_url\u001b[0;34m(self, bucket)\u001b[0m\n\u001b[1;32m    219\u001b[0m \u001b[39mprint\u001b[39m(\u001b[39mf\u001b[39m\u001b[39m\"\u001b[39m\u001b[39mDownloading mixdown from \u001b[39m\u001b[39m{\u001b[39;00mmy_presigned_url\u001b[39m}\u001b[39;00m\u001b[39m\"\u001b[39m)\n\u001b[1;32m    221\u001b[0m \u001b[39mtry\u001b[39;00m:\n\u001b[0;32m--> 222\u001b[0m     urllib\u001b[39m.\u001b[39;49mrequest\u001b[39m.\u001b[39;49murlretrieve(my_presigned_url, local_mixdown_job_path)\n\u001b[1;32m    223\u001b[0m \u001b[39mexcept\u001b[39;00m HTTPError \u001b[39mas\u001b[39;00m e:\n\u001b[1;32m    224\u001b[0m     \u001b[39mprint\u001b[39m(\u001b[39mf\u001b[39m\u001b[39m\"\u001b[39m\u001b[39mFailed to download mixdown: \u001b[39m\u001b[39m{\u001b[39;00me\u001b[39m}\u001b[39;00m\u001b[39m\"\u001b[39m)\n",
      "File \u001b[0;32m/Applications/Xcode.app/Contents/Developer/Library/Frameworks/Python3.framework/Versions/3.9/lib/python3.9/urllib/request.py:239\u001b[0m, in \u001b[0;36murlretrieve\u001b[0;34m(url, filename, reporthook, data)\u001b[0m\n\u001b[1;32m    222\u001b[0m \u001b[39m\u001b[39m\u001b[39m\"\"\"\u001b[39;00m\n\u001b[1;32m    223\u001b[0m \u001b[39mRetrieve a URL into a temporary location on disk.\u001b[39;00m\n\u001b[1;32m    224\u001b[0m \n\u001b[0;32m   (...)\u001b[0m\n\u001b[1;32m    235\u001b[0m \u001b[39mdata file as well as the resulting HTTPMessage object.\u001b[39;00m\n\u001b[1;32m    236\u001b[0m \u001b[39m\"\"\"\u001b[39;00m\n\u001b[1;32m    237\u001b[0m url_type, path \u001b[39m=\u001b[39m _splittype(url)\n\u001b[0;32m--> 239\u001b[0m \u001b[39mwith\u001b[39;00m contextlib\u001b[39m.\u001b[39mclosing(urlopen(url, data)) \u001b[39mas\u001b[39;00m fp:\n\u001b[1;32m    240\u001b[0m     headers \u001b[39m=\u001b[39m fp\u001b[39m.\u001b[39minfo()\n\u001b[1;32m    242\u001b[0m     \u001b[39m# Just return the local path and the \"headers\" for file://\u001b[39;00m\n\u001b[1;32m    243\u001b[0m     \u001b[39m# URLs. No sense in performing a copy unless requested.\u001b[39;00m\n",
      "File \u001b[0;32m/Applications/Xcode.app/Contents/Developer/Library/Frameworks/Python3.framework/Versions/3.9/lib/python3.9/urllib/request.py:214\u001b[0m, in \u001b[0;36murlopen\u001b[0;34m(url, data, timeout, cafile, capath, cadefault, context)\u001b[0m\n\u001b[1;32m    212\u001b[0m \u001b[39melse\u001b[39;00m:\n\u001b[1;32m    213\u001b[0m     opener \u001b[39m=\u001b[39m _opener\n\u001b[0;32m--> 214\u001b[0m \u001b[39mreturn\u001b[39;00m opener\u001b[39m.\u001b[39;49mopen(url, data, timeout)\n",
      "File \u001b[0;32m/Applications/Xcode.app/Contents/Developer/Library/Frameworks/Python3.framework/Versions/3.9/lib/python3.9/urllib/request.py:517\u001b[0m, in \u001b[0;36mOpenerDirector.open\u001b[0;34m(self, fullurl, data, timeout)\u001b[0m\n\u001b[1;32m    514\u001b[0m     req \u001b[39m=\u001b[39m meth(req)\n\u001b[1;32m    516\u001b[0m sys\u001b[39m.\u001b[39maudit(\u001b[39m'\u001b[39m\u001b[39murllib.Request\u001b[39m\u001b[39m'\u001b[39m, req\u001b[39m.\u001b[39mfull_url, req\u001b[39m.\u001b[39mdata, req\u001b[39m.\u001b[39mheaders, req\u001b[39m.\u001b[39mget_method())\n\u001b[0;32m--> 517\u001b[0m response \u001b[39m=\u001b[39m \u001b[39mself\u001b[39;49m\u001b[39m.\u001b[39;49m_open(req, data)\n\u001b[1;32m    519\u001b[0m \u001b[39m# post-process response\u001b[39;00m\n\u001b[1;32m    520\u001b[0m meth_name \u001b[39m=\u001b[39m protocol\u001b[39m+\u001b[39m\u001b[39m\"\u001b[39m\u001b[39m_response\u001b[39m\u001b[39m\"\u001b[39m\n",
      "File \u001b[0;32m/Applications/Xcode.app/Contents/Developer/Library/Frameworks/Python3.framework/Versions/3.9/lib/python3.9/urllib/request.py:539\u001b[0m, in \u001b[0;36mOpenerDirector._open\u001b[0;34m(self, req, data)\u001b[0m\n\u001b[1;32m    536\u001b[0m \u001b[39mif\u001b[39;00m result:\n\u001b[1;32m    537\u001b[0m     \u001b[39mreturn\u001b[39;00m result\n\u001b[0;32m--> 539\u001b[0m \u001b[39mreturn\u001b[39;00m \u001b[39mself\u001b[39;49m\u001b[39m.\u001b[39;49m_call_chain(\u001b[39mself\u001b[39;49m\u001b[39m.\u001b[39;49mhandle_open, \u001b[39m'\u001b[39;49m\u001b[39munknown\u001b[39;49m\u001b[39m'\u001b[39;49m,\n\u001b[1;32m    540\u001b[0m                         \u001b[39m'\u001b[39;49m\u001b[39munknown_open\u001b[39;49m\u001b[39m'\u001b[39;49m, req)\n",
      "File \u001b[0;32m/Applications/Xcode.app/Contents/Developer/Library/Frameworks/Python3.framework/Versions/3.9/lib/python3.9/urllib/request.py:494\u001b[0m, in \u001b[0;36mOpenerDirector._call_chain\u001b[0;34m(self, chain, kind, meth_name, *args)\u001b[0m\n\u001b[1;32m    492\u001b[0m \u001b[39mfor\u001b[39;00m handler \u001b[39min\u001b[39;00m handlers:\n\u001b[1;32m    493\u001b[0m     func \u001b[39m=\u001b[39m \u001b[39mgetattr\u001b[39m(handler, meth_name)\n\u001b[0;32m--> 494\u001b[0m     result \u001b[39m=\u001b[39m func(\u001b[39m*\u001b[39;49margs)\n\u001b[1;32m    495\u001b[0m     \u001b[39mif\u001b[39;00m result \u001b[39mis\u001b[39;00m \u001b[39mnot\u001b[39;00m \u001b[39mNone\u001b[39;00m:\n\u001b[1;32m    496\u001b[0m         \u001b[39mreturn\u001b[39;00m result\n",
      "File \u001b[0;32m/Applications/Xcode.app/Contents/Developer/Library/Frameworks/Python3.framework/Versions/3.9/lib/python3.9/urllib/request.py:1417\u001b[0m, in \u001b[0;36mUnknownHandler.unknown_open\u001b[0;34m(self, req)\u001b[0m\n\u001b[1;32m   1415\u001b[0m \u001b[39mdef\u001b[39;00m \u001b[39munknown_open\u001b[39m(\u001b[39mself\u001b[39m, req):\n\u001b[1;32m   1416\u001b[0m     \u001b[39mtype\u001b[39m \u001b[39m=\u001b[39m req\u001b[39m.\u001b[39mtype\n\u001b[0;32m-> 1417\u001b[0m     \u001b[39mraise\u001b[39;00m URLError(\u001b[39m'\u001b[39m\u001b[39munknown url type: \u001b[39m\u001b[39m%s\u001b[39;00m\u001b[39m'\u001b[39m \u001b[39m%\u001b[39m \u001b[39mtype\u001b[39m)\n",
      "\u001b[0;31mURLError\u001b[0m: <urlopen error unknown url type: \"https>"
     ]
    }
   ],
   "source": [
    "my_mix = file_utils.presigned_url('sample-dump')\n",
    "print(my_mix)"
   ]
  },
  {
   "cell_type": "code",
   "execution_count": 23,
   "metadata": {},
   "outputs": [
    {
     "ename": "HTTPError",
     "evalue": "HTTP Error 403: Forbidden",
     "output_type": "error",
     "traceback": [
      "\u001b[0;31m---------------------------------------------------------------------------\u001b[0m",
      "\u001b[0;31mHTTPError\u001b[0m                                 Traceback (most recent call last)",
      "Cell \u001b[0;32mIn[23], line 3\u001b[0m\n\u001b[1;32m      1\u001b[0m local_mixdown_job_path \u001b[39m=\u001b[39m \u001b[39m\"\u001b[39m\u001b[39mtemp/mixdown/mixdown_owcvbi_2023_06_02_fat_explanation__1685727851-gckshove6374GJWW_master.wav\u001b[39m\u001b[39m\"\u001b[39m\n\u001b[1;32m      2\u001b[0m my_presigned_url\u001b[39m=\u001b[39m\u001b[39m\"\u001b[39m\u001b[39mhttps://s3.eu-central-1.wasabisys.com/sample-dump/mixdown/mixdown_owcvbi_2023_06_02_fat_explanation__1685727851-gckshove6374GJWW_master.wav?AWSAccessKeyId=MTB498L2B4RIC27GLUV3&Signature=sDMEG9stCJCLcCCemBoV16Npg3k\u001b[39m\u001b[39m%\u001b[39m\u001b[39m3D&Expires=1685736913\u001b[39m\u001b[39m\"\u001b[39m\n\u001b[0;32m----> 3\u001b[0m urllib\u001b[39m.\u001b[39;49mrequest\u001b[39m.\u001b[39;49murlretrieve(my_presigned_url, \u001b[39m\"\u001b[39;49m\u001b[39mtest.wav\u001b[39;49m\u001b[39m\"\u001b[39;49m)\n",
      "File \u001b[0;32m/Applications/Xcode.app/Contents/Developer/Library/Frameworks/Python3.framework/Versions/3.9/lib/python3.9/urllib/request.py:239\u001b[0m, in \u001b[0;36murlretrieve\u001b[0;34m(url, filename, reporthook, data)\u001b[0m\n\u001b[1;32m    222\u001b[0m \u001b[39m\u001b[39m\u001b[39m\"\"\"\u001b[39;00m\n\u001b[1;32m    223\u001b[0m \u001b[39mRetrieve a URL into a temporary location on disk.\u001b[39;00m\n\u001b[1;32m    224\u001b[0m \n\u001b[0;32m   (...)\u001b[0m\n\u001b[1;32m    235\u001b[0m \u001b[39mdata file as well as the resulting HTTPMessage object.\u001b[39;00m\n\u001b[1;32m    236\u001b[0m \u001b[39m\"\"\"\u001b[39;00m\n\u001b[1;32m    237\u001b[0m url_type, path \u001b[39m=\u001b[39m _splittype(url)\n\u001b[0;32m--> 239\u001b[0m \u001b[39mwith\u001b[39;00m contextlib\u001b[39m.\u001b[39mclosing(urlopen(url, data)) \u001b[39mas\u001b[39;00m fp:\n\u001b[1;32m    240\u001b[0m     headers \u001b[39m=\u001b[39m fp\u001b[39m.\u001b[39minfo()\n\u001b[1;32m    242\u001b[0m     \u001b[39m# Just return the local path and the \"headers\" for file://\u001b[39;00m\n\u001b[1;32m    243\u001b[0m     \u001b[39m# URLs. No sense in performing a copy unless requested.\u001b[39;00m\n",
      "File \u001b[0;32m/Applications/Xcode.app/Contents/Developer/Library/Frameworks/Python3.framework/Versions/3.9/lib/python3.9/urllib/request.py:214\u001b[0m, in \u001b[0;36murlopen\u001b[0;34m(url, data, timeout, cafile, capath, cadefault, context)\u001b[0m\n\u001b[1;32m    212\u001b[0m \u001b[39melse\u001b[39;00m:\n\u001b[1;32m    213\u001b[0m     opener \u001b[39m=\u001b[39m _opener\n\u001b[0;32m--> 214\u001b[0m \u001b[39mreturn\u001b[39;00m opener\u001b[39m.\u001b[39;49mopen(url, data, timeout)\n",
      "File \u001b[0;32m/Applications/Xcode.app/Contents/Developer/Library/Frameworks/Python3.framework/Versions/3.9/lib/python3.9/urllib/request.py:523\u001b[0m, in \u001b[0;36mOpenerDirector.open\u001b[0;34m(self, fullurl, data, timeout)\u001b[0m\n\u001b[1;32m    521\u001b[0m \u001b[39mfor\u001b[39;00m processor \u001b[39min\u001b[39;00m \u001b[39mself\u001b[39m\u001b[39m.\u001b[39mprocess_response\u001b[39m.\u001b[39mget(protocol, []):\n\u001b[1;32m    522\u001b[0m     meth \u001b[39m=\u001b[39m \u001b[39mgetattr\u001b[39m(processor, meth_name)\n\u001b[0;32m--> 523\u001b[0m     response \u001b[39m=\u001b[39m meth(req, response)\n\u001b[1;32m    525\u001b[0m \u001b[39mreturn\u001b[39;00m response\n",
      "File \u001b[0;32m/Applications/Xcode.app/Contents/Developer/Library/Frameworks/Python3.framework/Versions/3.9/lib/python3.9/urllib/request.py:632\u001b[0m, in \u001b[0;36mHTTPErrorProcessor.http_response\u001b[0;34m(self, request, response)\u001b[0m\n\u001b[1;32m    629\u001b[0m \u001b[39m# According to RFC 2616, \"2xx\" code indicates that the client's\u001b[39;00m\n\u001b[1;32m    630\u001b[0m \u001b[39m# request was successfully received, understood, and accepted.\u001b[39;00m\n\u001b[1;32m    631\u001b[0m \u001b[39mif\u001b[39;00m \u001b[39mnot\u001b[39;00m (\u001b[39m200\u001b[39m \u001b[39m<\u001b[39m\u001b[39m=\u001b[39m code \u001b[39m<\u001b[39m \u001b[39m300\u001b[39m):\n\u001b[0;32m--> 632\u001b[0m     response \u001b[39m=\u001b[39m \u001b[39mself\u001b[39;49m\u001b[39m.\u001b[39;49mparent\u001b[39m.\u001b[39;49merror(\n\u001b[1;32m    633\u001b[0m         \u001b[39m'\u001b[39;49m\u001b[39mhttp\u001b[39;49m\u001b[39m'\u001b[39;49m, request, response, code, msg, hdrs)\n\u001b[1;32m    635\u001b[0m \u001b[39mreturn\u001b[39;00m response\n",
      "File \u001b[0;32m/Applications/Xcode.app/Contents/Developer/Library/Frameworks/Python3.framework/Versions/3.9/lib/python3.9/urllib/request.py:561\u001b[0m, in \u001b[0;36mOpenerDirector.error\u001b[0;34m(self, proto, *args)\u001b[0m\n\u001b[1;32m    559\u001b[0m \u001b[39mif\u001b[39;00m http_err:\n\u001b[1;32m    560\u001b[0m     args \u001b[39m=\u001b[39m (\u001b[39mdict\u001b[39m, \u001b[39m'\u001b[39m\u001b[39mdefault\u001b[39m\u001b[39m'\u001b[39m, \u001b[39m'\u001b[39m\u001b[39mhttp_error_default\u001b[39m\u001b[39m'\u001b[39m) \u001b[39m+\u001b[39m orig_args\n\u001b[0;32m--> 561\u001b[0m     \u001b[39mreturn\u001b[39;00m \u001b[39mself\u001b[39;49m\u001b[39m.\u001b[39;49m_call_chain(\u001b[39m*\u001b[39;49margs)\n",
      "File \u001b[0;32m/Applications/Xcode.app/Contents/Developer/Library/Frameworks/Python3.framework/Versions/3.9/lib/python3.9/urllib/request.py:494\u001b[0m, in \u001b[0;36mOpenerDirector._call_chain\u001b[0;34m(self, chain, kind, meth_name, *args)\u001b[0m\n\u001b[1;32m    492\u001b[0m \u001b[39mfor\u001b[39;00m handler \u001b[39min\u001b[39;00m handlers:\n\u001b[1;32m    493\u001b[0m     func \u001b[39m=\u001b[39m \u001b[39mgetattr\u001b[39m(handler, meth_name)\n\u001b[0;32m--> 494\u001b[0m     result \u001b[39m=\u001b[39m func(\u001b[39m*\u001b[39;49margs)\n\u001b[1;32m    495\u001b[0m     \u001b[39mif\u001b[39;00m result \u001b[39mis\u001b[39;00m \u001b[39mnot\u001b[39;00m \u001b[39mNone\u001b[39;00m:\n\u001b[1;32m    496\u001b[0m         \u001b[39mreturn\u001b[39;00m result\n",
      "File \u001b[0;32m/Applications/Xcode.app/Contents/Developer/Library/Frameworks/Python3.framework/Versions/3.9/lib/python3.9/urllib/request.py:641\u001b[0m, in \u001b[0;36mHTTPDefaultErrorHandler.http_error_default\u001b[0;34m(self, req, fp, code, msg, hdrs)\u001b[0m\n\u001b[1;32m    640\u001b[0m \u001b[39mdef\u001b[39;00m \u001b[39mhttp_error_default\u001b[39m(\u001b[39mself\u001b[39m, req, fp, code, msg, hdrs):\n\u001b[0;32m--> 641\u001b[0m     \u001b[39mraise\u001b[39;00m HTTPError(req\u001b[39m.\u001b[39mfull_url, code, msg, hdrs, fp)\n",
      "\u001b[0;31mHTTPError\u001b[0m: HTTP Error 403: Forbidden"
     ]
    }
   ],
   "source": [
    "local_mixdown_job_path = \"temp/mixdown/mixdown_owcvbi_2023_06_02_fat_explanation__1685727851-gckshove6374GJWW_master.wav\"\n",
    "my_presigned_url=\"https://s3.eu-central-1.wasabisys.com/sample-dump/mixdown/mixdown_owcvbi_2023_06_02_fat_explanation__1685727851-gckshove6374GJWW_master.wav?AWSAccessKeyId=MTB498L2B4RIC27GLUV3&Signature=sDMEG9stCJCLcCCemBoV16Npg3k%3D&Expires=1685736913\"\n",
    "urllib.request.urlretrieve(my_presigned_url, \"test.wav\")"
   ]
  }
 ],
 "metadata": {
  "kernelspec": {
   "display_name": "Python 3",
   "language": "python",
   "name": "python3"
  },
  "language_info": {
   "codemirror_mode": {
    "name": "ipython",
    "version": 3
   },
   "file_extension": ".py",
   "mimetype": "text/x-python",
   "name": "python",
   "nbconvert_exporter": "python",
   "pygments_lexer": "ipython3",
   "version": "3.9.6"
  },
  "orig_nbformat": 4
 },
 "nbformat": 4,
 "nbformat_minor": 2
}
